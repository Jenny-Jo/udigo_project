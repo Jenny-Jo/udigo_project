{
 "cells": [
  {
   "cell_type": "code",
   "execution_count": 3,
   "metadata": {},
   "outputs": [],
   "source": [
    "import os\n",
    "import shutil\n",
    "import random\n",
    "import zipfile\n",
    "import os\n",
    "import glob\n",
    "import random"
   ]
  },
  {
   "cell_type": "code",
   "execution_count": 17,
   "metadata": {},
   "outputs": [],
   "source": [
    "a=[1,2,3]\n",
    "b=random.shuffle(a)\n"
   ]
  },
  {
   "cell_type": "code",
   "execution_count": 10,
   "metadata": {},
   "outputs": [],
   "source": [
    "def proprecessing(keyword):\n",
    "    # train,test 폴더를 만들고\n",
    "    path = f'./{keyword}'\n",
    "    \n",
    "    def create_folder(directory):\n",
    "        try:\n",
    "            if not os.path.exists(directory):\n",
    "                os.makedirs(directory)\n",
    "        except OSError:\n",
    "            print('Error: Creating directory. '+ directory)\n",
    "    \n",
    "    create_folder(path+f'/{keyword}_test')\n",
    "    create_folder(path+f'/{keyword}_train')    \n",
    "    \n",
    "    # 이때까지 모은 파일들을 모두 읽어서\n",
    "    def read_all_file(path):\n",
    "        output = os.listdir(path)\n",
    "        file_list=[]\n",
    "        \n",
    "        for i in output:\n",
    "            if os.path.isdir(path+'/'+i):\n",
    "                file_list.extend(read_all_file(path+'/'+i))\n",
    "            elif os.path.isfile(path+'/'+i):\n",
    "                file_list.append(path+'/'+i)\n",
    "        return file_list\n",
    "\n",
    "    \n",
    "    def copy_all_file(file_list,new_path):\n",
    "        for src_path in file_list:\n",
    "            file = src_path.split('/')[-1]\n",
    "            shutil.copyfile(src_path, new_path+'/'+file)\n",
    "            \n",
    "    def copy_file_random(file_list,new_path):\n",
    "        file_list200 = random.shuffle(file_list)\n",
    "        file_list200 = file_list[:200]\n",
    "        for src_path in file_list200:\n",
    "            file = src_path.split('/')[-1] # 파일 이름 리스트\n",
    "            os.rename(src_path,new_path+'/'+file)###여기 고치기!!\n",
    "    \n",
    "#     for img in img_list[:200]:\n",
    "#     filename = img.split('/')[-1]\n",
    "#     os.rename(img, os.path.join(test, filename))\n",
    "    \n",
    "    \n",
    "    file_list = read_all_file(path)            \n",
    "    print(len(file_list))\n",
    "    print(file_list[:10])\n",
    "    \n",
    "    # 내가 지정한 폴더 train에 읽은 파일 모두를 복붙한다.\n",
    "    copy_all_file(file_list,path+f'/{keyword}_train')\n",
    "    \n",
    "    # 이때까지 모은 파일의 갯수를 출력한다.\n",
    "    total= len(os.listdir(path+f'/{keyword}_train'))\n",
    "    print(total)\n",
    "    \n",
    "    # 내가 지정한 폴더 test에 200장만 랜덤으로 뽑아 옮긴다.\n",
    "    copy_file_random(file_list,path+f'/{keyword}_test')\n",
    "    \n",
    "    sum2= len(os.listdir(path+f'/{keyword}_test'))+len(os.listdir(path+f'/{keyword}_train'))\n",
    "    \n",
    "    print('총 사진수', total==sum2, total)"
   ]
  },
  {
   "cell_type": "code",
   "execution_count": 12,
   "metadata": {},
   "outputs": [
    {
     "name": "stdout",
     "output_type": "stream",
     "text": [
      "2343\n",
      "['./다리_place_한국/263.jpg', './다리_place_한국/1187.jpg', './다리_place_한국/1944.jpg', './다리_place_한국/243.jpg', './다리_place_한국/1472.jpg', './다리_place_한국/1825.jpg', './다리_place_한국/2329.jpg', './다리_place_한국/65.jpg', './다리_place_한국/458.jpg', './다리_place_한국/2789.jpg']\n",
      "2343\n",
      "총 사진수 False 2343\n"
     ]
    }
   ],
   "source": [
    "proprecessing('다리_place_한국')"
   ]
  },
  {
   "cell_type": "code",
   "execution_count": null,
   "metadata": {},
   "outputs": [],
   "source": []
  }
 ],
 "metadata": {
  "kernelspec": {
   "display_name": "aiffel",
   "language": "python",
   "name": "aiffel"
  },
  "language_info": {
   "codemirror_mode": {
    "name": "ipython",
    "version": 3
   },
   "file_extension": ".py",
   "mimetype": "text/x-python",
   "name": "python",
   "nbconvert_exporter": "python",
   "pygments_lexer": "ipython3",
   "version": "3.7.9"
  }
 },
 "nbformat": 4,
 "nbformat_minor": 4
}
