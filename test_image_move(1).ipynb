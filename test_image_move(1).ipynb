{
 "cells": [
  {
   "cell_type": "markdown",
   "metadata": {},
   "source": [
    "## 테스트 이미지 이동"
   ]
  },
  {
   "cell_type": "code",
   "execution_count": 2,
   "metadata": {},
   "outputs": [],
   "source": [
    "import os\n",
    "import glob\n",
    "import random"
   ]
  },
  {
   "cell_type": "code",
   "execution_count": 3,
   "metadata": {},
   "outputs": [],
   "source": [
    "category = '미용실'\n",
    "img_path = os.getenv('HOME') + f'/UDIGO/img_selection/{category}'"
   ]
  },
  {
   "cell_type": "code",
   "execution_count": 3,
   "metadata": {},
   "outputs": [],
   "source": [
    "img_list = glob.glob(img_path + '/crawling/*')"
   ]
  },
  {
   "cell_type": "code",
   "execution_count": 4,
   "metadata": {},
   "outputs": [
    {
     "data": {
      "text/plain": [
       "['/home/ssac21/UDIGO/img_selection/미용실/crawling/hairshop_interior303.jpg',\n",
       " '/home/ssac21/UDIGO/img_selection/미용실/crawling/hairshop120',\n",
       " '/home/ssac21/UDIGO/img_selection/미용실/crawling/modrn_shop201.jpg?type=w3',\n",
       " '/home/ssac21/UDIGO/img_selection/미용실/crawling/modrn_shop90.jpg?type=w773',\n",
       " '/home/ssac21/UDIGO/img_selection/미용실/crawling/hairshop006. ',\n",
       " '/home/ssac21/UDIGO/img_selection/미용실/crawling/hairshop163. ',\n",
       " '/home/ssac21/UDIGO/img_selection/미용실/crawling/hairshop231.jpg',\n",
       " '/home/ssac21/UDIGO/img_selection/미용실/crawling/hairshop_interior091.png',\n",
       " '/home/ssac21/UDIGO/img_selection/미용실/crawling/hairshop368.jpg?type=w966',\n",
       " '/home/ssac21/UDIGO/img_selection/미용실/crawling/modrn_shop138.jpg']"
      ]
     },
     "execution_count": 4,
     "metadata": {},
     "output_type": "execute_result"
    }
   ],
   "source": [
    "img_list[:10]"
   ]
  },
  {
   "cell_type": "code",
   "execution_count": 5,
   "metadata": {},
   "outputs": [],
   "source": [
    "random.shuffle(img_list)"
   ]
  },
  {
   "cell_type": "code",
   "execution_count": 4,
   "metadata": {},
   "outputs": [
    {
     "data": {
      "text/plain": [
       "'/home/aiffel/UDIGO/img_selection/미용실/미용실'"
      ]
     },
     "execution_count": 4,
     "metadata": {},
     "output_type": "execute_result"
    }
   ],
   "source": [
    "save_dir = os.path.join(img_path, category)\n",
    "save_dir"
   ]
  },
  {
   "cell_type": "code",
   "execution_count": 6,
   "metadata": {},
   "outputs": [],
   "source": [
    "save_dir = os.path.join(img_path, category)\n",
    "if not os.path.exists(save_dir):\n",
    "    os.mkdir(save_dir)"
   ]
  },
  {
   "cell_type": "code",
   "execution_count": 7,
   "metadata": {},
   "outputs": [],
   "source": [
    "for img in img_list[:200]:\n",
    "    filename = img.split('/')[-1]\n",
    "    os.rename(img, os.path.join(save_dir, filename))"
   ]
  }
 ],
 "metadata": {
  "kernelspec": {
   "display_name": "Python 3",
   "language": "python",
   "name": "python3"
  },
  "language_info": {
   "codemirror_mode": {
    "name": "ipython",
    "version": 3
   },
   "file_extension": ".py",
   "mimetype": "text/x-python",
   "name": "python",
   "nbconvert_exporter": "python",
   "pygments_lexer": "ipython3",
   "version": "3.7.9"
  },
  "toc": {
   "base_numbering": 1,
   "nav_menu": {},
   "number_sections": false,
   "sideBar": true,
   "skip_h1_title": false,
   "title_cell": "Contents",
   "title_sidebar": "Contents",
   "toc_cell": true,
   "toc_position": {},
   "toc_section_display": true,
   "toc_window_display": false
  }
 },
 "nbformat": 4,
 "nbformat_minor": 4
}
