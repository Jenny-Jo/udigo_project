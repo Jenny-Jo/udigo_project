{
 "cells": [
  {
   "cell_type": "markdown",
   "metadata": {},
   "source": [
    "## 테스트 이미지 이동"
   ]
  },
  {
   "cell_type": "code",
   "execution_count": 1,
   "metadata": {},
   "outputs": [],
   "source": [
    "import os\n",
    "import glob\n",
    "import random"
   ]
  },
  {
   "cell_type": "code",
   "execution_count": 2,
   "metadata": {},
   "outputs": [],
   "source": [
    "category = '다리_place_한국'\n",
    "img_path = f'./{category}'"
   ]
  },
  {
   "cell_type": "code",
   "execution_count": 3,
   "metadata": {},
   "outputs": [],
   "source": [
    "img_list = glob.glob(img_path + '/다리_place_한국_train/*')"
   ]
  },
  {
   "cell_type": "code",
   "execution_count": 4,
   "metadata": {},
   "outputs": [
    {
     "data": {
      "text/plain": [
       "['./다리_place_한국/다리_place_한국_train/263.jpg',\n",
       " './다리_place_한국/다리_place_한국_train/1187.jpg',\n",
       " './다리_place_한국/다리_place_한국_train/1944.jpg',\n",
       " './다리_place_한국/다리_place_한국_train/243.jpg',\n",
       " './다리_place_한국/다리_place_한국_train/1472.jpg',\n",
       " './다리_place_한국/다리_place_한국_train/1825.jpg',\n",
       " './다리_place_한국/다리_place_한국_train/2329.jpg',\n",
       " './다리_place_한국/다리_place_한국_train/65.jpg',\n",
       " './다리_place_한국/다리_place_한국_train/458.jpg',\n",
       " './다리_place_한국/다리_place_한국_train/2789.jpg']"
      ]
     },
     "execution_count": 4,
     "metadata": {},
     "output_type": "execute_result"
    }
   ],
   "source": [
    "img_list[:10]"
   ]
  },
  {
   "cell_type": "code",
   "execution_count": 5,
   "metadata": {},
   "outputs": [],
   "source": [
    "random.shuffle(img_list)"
   ]
  },
  {
   "cell_type": "code",
   "execution_count": 8,
   "metadata": {},
   "outputs": [],
   "source": [
    "save_dir = os.path.join(img_path, 'test')\n",
    "if not os.path.exists(save_dir):\n",
    "    os.mkdir(save_dir)"
   ]
  },
  {
   "cell_type": "code",
   "execution_count": 9,
   "metadata": {},
   "outputs": [],
   "source": [
    "for img in img_list[:200]:\n",
    "    filename = img.split('/')[-1]\n",
    "    os.rename(img, os.path.join(save_dir, filename))"
   ]
  },
  {
   "cell_type": "code",
   "execution_count": 13,
   "metadata": {},
   "outputs": [
    {
     "data": {
      "text/plain": [
       "3"
      ]
     },
     "execution_count": 13,
     "metadata": {},
     "output_type": "execute_result"
    }
   ],
   "source": [
    "1.4\n",
    "1.3\n",
    "1.3\n",
    "1.2\n",
    "1.2\n",
    "1.1\n",
    "1.2\n",
    "1.2\n",
    "1.0\n",
    "1.2\n",
    "1.0\n",
    "1.3\n",
    "1.0\n",
    "1.1\n"
   ]
  },
  {
   "cell_type": "code",
   "execution_count": 14,
   "metadata": {},
   "outputs": [
    {
     "data": {
      "text/plain": [
       "18.166666666666668"
      ]
     },
     "execution_count": 14,
     "metadata": {},
     "output_type": "execute_result"
    }
   ],
   "source": [
    "14+sum([4,3,3,2,2,1,2,2,0,2,3,1])/6"
   ]
  },
  {
   "cell_type": "code",
   "execution_count": null,
   "metadata": {},
   "outputs": [],
   "source": [
    "18/3"
   ]
  }
 ],
 "metadata": {
  "kernelspec": {
   "display_name": "Python 3",
   "language": "python",
   "name": "python3"
  },
  "language_info": {
   "codemirror_mode": {
    "name": "ipython",
    "version": 3
   },
   "file_extension": ".py",
   "mimetype": "text/x-python",
   "name": "python",
   "nbconvert_exporter": "python",
   "pygments_lexer": "ipython3",
   "version": "3.7.9"
  },
  "toc": {
   "base_numbering": 1,
   "nav_menu": {},
   "number_sections": false,
   "sideBar": true,
   "skip_h1_title": false,
   "title_cell": "Contents",
   "title_sidebar": "Contents",
   "toc_cell": true,
   "toc_position": {},
   "toc_section_display": true,
   "toc_window_display": false
  }
 },
 "nbformat": 4,
 "nbformat_minor": 4
}
