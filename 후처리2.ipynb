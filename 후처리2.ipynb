{
 "cells": [
  {
   "cell_type": "code",
   "execution_count": 2,
   "metadata": {},
   "outputs": [],
   "source": [
    "import os\n",
    "import shutil\n",
    "import random\n",
    "import zipfile\n",
    "import os\n",
    "import glob\n",
    "import random"
   ]
  },
  {
   "cell_type": "code",
   "execution_count": 8,
   "metadata": {},
   "outputs": [],
   "source": [
    "def proprecessing(keyword):\n",
    "    # train,test 폴더를 만들고\n",
    "    path = f'./{keyword}'\n",
    "    def create_folder(directory):\n",
    "        try:\n",
    "            if not os.path.exists(directory):\n",
    "                os.makedirs(directory)\n",
    "        except OSError:\n",
    "            print('Error: Creating directory. '+ directory)\n",
    "    \n",
    "    create_folder(path+f'/{keyword}_test')\n",
    "    create_folder(path+f'/{keyword}_train')    \n",
    "    \n",
    "    # 이때까지 모은 파일들을 모두 읽어서\n",
    "    def read_all_file(path):\n",
    "        output = os.listdir(path)\n",
    "        file_list=[]\n",
    "        \n",
    "        for i in output:\n",
    "            if os.path.isdir(path+'/'+i):\n",
    "                file_list.extend(read_all_file(path+'/'+i))\n",
    "            elif os.path.isfile(path+'/'+i):\n",
    "                file_list.append(path+'/'+i)\n",
    "        return file_list\n",
    "    \n",
    "    # 내가 지정한 폴더 train에 읽은 파일 모두를 복붙한다.\n",
    "    def copy_all_file(file_list,new_path):\n",
    "        for src_path in file_list:\n",
    "            file = src_path.split('/')[-1]\n",
    "            shutil.copyfile(src_path, new_path+'/'+file)\n",
    "            \n",
    "    # 내가 지정한 폴더 test에 200장만 랜덤으로 뽑아 옮긴다.\n",
    "    def copy_file_random(file_list,new_path):\n",
    "        file_list200 = random.sample(file_list,200)\n",
    "        for src_path in file_list200:\n",
    "            file = src_path.split('/')[-1] # 파일 이름 리스트\n",
    "            os.rename(src_path,new_path+'/'+file)###여기 고치기!!\n",
    "    \n",
    "#     for img in img_list[:200]:\n",
    "#     filename = img.split('/')[-1]\n",
    "#     os.rename(img, os.path.join(test, filename))\n",
    "    \n",
    "    \n",
    "    file_list = read_all_file(path)            \n",
    "    print(len(file_list))\n",
    "    copy_all_file(file_list,path+f'/{keyword}_train')\n",
    "    \n",
    "    # 이때까지 모은 파일의 갯수를 출력한다.\n",
    "    total= len(os.listdir(path+f'/{keyword}_train'))\n",
    "    print(total)\n",
    "    copy_file_random(file_list,path+f'/{keyword}_test')\n",
    "    \n",
    "    sum2= len(os.listdir(path+f'/{keyword}_test'))+len(os.listdir(path+f'/{keyword}_train'))\n",
    "    \n",
    "    print('총 사진수', total==sum2, total)"
   ]
  },
  {
   "cell_type": "code",
   "execution_count": 6,
   "metadata": {},
   "outputs": [
    {
     "name": "stdout",
     "output_type": "stream",
     "text": [
      "/home/aiffel/aiffel/어디고/데이터\r\n"
     ]
    }
   ],
   "source": [
    "!pwd"
   ]
  },
  {
   "cell_type": "code",
   "execution_count": 10,
   "metadata": {
    "scrolled": true
   },
   "outputs": [
    {
     "name": "stdout",
     "output_type": "stream",
     "text": [
      "2943\n",
      "2943\n"
     ]
    },
    {
     "ename": "FileNotFoundError",
     "evalue": "[Errno 2] No such file or directory: '1132.jpg' -> './다리_place_한국/다리_place_한국_test/1132.jpg'",
     "output_type": "error",
     "traceback": [
      "\u001b[0;31m---------------------------------------------------------------------------\u001b[0m",
      "\u001b[0;31mFileNotFoundError\u001b[0m                         Traceback (most recent call last)",
      "\u001b[0;32m<ipython-input-10-71797c089e6b>\u001b[0m in \u001b[0;36m<module>\u001b[0;34m\u001b[0m\n\u001b[0;32m----> 1\u001b[0;31m \u001b[0mproprecessing\u001b[0m\u001b[0;34m(\u001b[0m\u001b[0;34m'다리_place_한국'\u001b[0m\u001b[0;34m)\u001b[0m\u001b[0;34m\u001b[0m\u001b[0;34m\u001b[0m\u001b[0m\n\u001b[0m",
      "\u001b[0;32m<ipython-input-8-28b5e9c19cd2>\u001b[0m in \u001b[0;36mproprecessing\u001b[0;34m(keyword)\u001b[0m\n\u001b[1;32m     49\u001b[0m     \u001b[0mtotal\u001b[0m\u001b[0;34m=\u001b[0m \u001b[0mlen\u001b[0m\u001b[0;34m(\u001b[0m\u001b[0mos\u001b[0m\u001b[0;34m.\u001b[0m\u001b[0mlistdir\u001b[0m\u001b[0;34m(\u001b[0m\u001b[0mpath\u001b[0m\u001b[0;34m+\u001b[0m\u001b[0;34mf'/{keyword}_train'\u001b[0m\u001b[0;34m)\u001b[0m\u001b[0;34m)\u001b[0m\u001b[0;34m\u001b[0m\u001b[0;34m\u001b[0m\u001b[0m\n\u001b[1;32m     50\u001b[0m     \u001b[0mprint\u001b[0m\u001b[0;34m(\u001b[0m\u001b[0mtotal\u001b[0m\u001b[0;34m)\u001b[0m\u001b[0;34m\u001b[0m\u001b[0;34m\u001b[0m\u001b[0m\n\u001b[0;32m---> 51\u001b[0;31m     \u001b[0mcopy_file_random\u001b[0m\u001b[0;34m(\u001b[0m\u001b[0mfile_list\u001b[0m\u001b[0;34m,\u001b[0m\u001b[0mpath\u001b[0m\u001b[0;34m+\u001b[0m\u001b[0;34mf'/{keyword}_test'\u001b[0m\u001b[0;34m)\u001b[0m\u001b[0;34m\u001b[0m\u001b[0;34m\u001b[0m\u001b[0m\n\u001b[0m\u001b[1;32m     52\u001b[0m \u001b[0;34m\u001b[0m\u001b[0m\n\u001b[1;32m     53\u001b[0m     \u001b[0msum2\u001b[0m\u001b[0;34m=\u001b[0m \u001b[0mlen\u001b[0m\u001b[0;34m(\u001b[0m\u001b[0mos\u001b[0m\u001b[0;34m.\u001b[0m\u001b[0mlistdir\u001b[0m\u001b[0;34m(\u001b[0m\u001b[0mpath\u001b[0m\u001b[0;34m+\u001b[0m\u001b[0;34mf'/{keyword}_test'\u001b[0m\u001b[0;34m)\u001b[0m\u001b[0;34m)\u001b[0m\u001b[0;34m+\u001b[0m\u001b[0mlen\u001b[0m\u001b[0;34m(\u001b[0m\u001b[0mos\u001b[0m\u001b[0;34m.\u001b[0m\u001b[0mlistdir\u001b[0m\u001b[0;34m(\u001b[0m\u001b[0mpath\u001b[0m\u001b[0;34m+\u001b[0m\u001b[0;34mf'/{keyword}_train'\u001b[0m\u001b[0;34m)\u001b[0m\u001b[0;34m)\u001b[0m\u001b[0;34m\u001b[0m\u001b[0;34m\u001b[0m\u001b[0m\n",
      "\u001b[0;32m<ipython-input-8-28b5e9c19cd2>\u001b[0m in \u001b[0;36mcopy_file_random\u001b[0;34m(file_list, new_path)\u001b[0m\n\u001b[1;32m     35\u001b[0m         \u001b[0;32mfor\u001b[0m \u001b[0msrc_path\u001b[0m \u001b[0;32min\u001b[0m \u001b[0mfile_list200\u001b[0m\u001b[0;34m:\u001b[0m\u001b[0;34m\u001b[0m\u001b[0;34m\u001b[0m\u001b[0m\n\u001b[1;32m     36\u001b[0m             \u001b[0mfile\u001b[0m \u001b[0;34m=\u001b[0m \u001b[0msrc_path\u001b[0m\u001b[0;34m.\u001b[0m\u001b[0msplit\u001b[0m\u001b[0;34m(\u001b[0m\u001b[0;34m'/'\u001b[0m\u001b[0;34m)\u001b[0m\u001b[0;34m[\u001b[0m\u001b[0;34m-\u001b[0m\u001b[0;36m1\u001b[0m\u001b[0;34m]\u001b[0m \u001b[0;31m# 파일 이름 리스트\u001b[0m\u001b[0;34m\u001b[0m\u001b[0;34m\u001b[0m\u001b[0m\n\u001b[0;32m---> 37\u001b[0;31m             \u001b[0mos\u001b[0m\u001b[0;34m.\u001b[0m\u001b[0mrename\u001b[0m\u001b[0;34m(\u001b[0m\u001b[0mfile\u001b[0m\u001b[0;34m,\u001b[0m\u001b[0mnew_path\u001b[0m\u001b[0;34m+\u001b[0m\u001b[0;34m'/'\u001b[0m\u001b[0;34m+\u001b[0m\u001b[0mfile\u001b[0m\u001b[0;34m)\u001b[0m\u001b[0;31m###여기 고치기!!\u001b[0m\u001b[0;34m\u001b[0m\u001b[0;34m\u001b[0m\u001b[0m\n\u001b[0m\u001b[1;32m     38\u001b[0m \u001b[0;34m\u001b[0m\u001b[0m\n\u001b[1;32m     39\u001b[0m \u001b[0;31m#     for img in img_list[:200]:\u001b[0m\u001b[0;34m\u001b[0m\u001b[0;34m\u001b[0m\u001b[0;34m\u001b[0m\u001b[0m\n",
      "\u001b[0;31mFileNotFoundError\u001b[0m: [Errno 2] No such file or directory: '1132.jpg' -> './다리_place_한국/다리_place_한국_test/1132.jpg'"
     ]
    }
   ],
   "source": [
    "proprecessing('다리_place_한국')"
   ]
  },
  {
   "cell_type": "code",
   "execution_count": 34,
   "metadata": {
    "scrolled": true
   },
   "outputs": [
    {
     "data": {
      "text/plain": [
       "1015"
      ]
     },
     "execution_count": 34,
     "metadata": {},
     "output_type": "execute_result"
    }
   ],
   "source": [
    "import os\n",
    "len(os.listdir('./워터파크/워터파크_train'))"
   ]
  },
  {
   "cell_type": "code",
   "execution_count": null,
   "metadata": {},
   "outputs": [],
   "source": []
  },
  {
   "cell_type": "code",
   "execution_count": 23,
   "metadata": {
    "scrolled": false
   },
   "outputs": [
    {
     "data": {
      "text/plain": [
       "200"
      ]
     },
     "execution_count": 23,
     "metadata": {},
     "output_type": "execute_result"
    }
   ],
   "source": [
    "len(os.listdir('./워터파크/워터파크_test'))"
   ]
  },
  {
   "cell_type": "markdown",
   "metadata": {},
   "source": [
    "# crawling으로 미리 다 모아진건 지우거나 이름 train으로 바꾸기"
   ]
  },
  {
   "cell_type": "code",
   "execution_count": 3,
   "metadata": {},
   "outputs": [
    {
     "name": "stdout",
     "output_type": "stream",
     "text": [
      "총 사진 갯수 2101\n"
     ]
    }
   ],
   "source": [
    "proprecessing('한옥마을')"
   ]
  },
  {
   "cell_type": "code",
   "execution_count": 26,
   "metadata": {},
   "outputs": [
    {
     "data": {
      "text/plain": [
       "5000"
      ]
     },
     "execution_count": 26,
     "metadata": {},
     "output_type": "execute_result"
    }
   ],
   "source": [
    "len(os.listdir('./병원/hospital_room'))"
   ]
  },
  {
   "cell_type": "code",
   "execution_count": 33,
   "metadata": {},
   "outputs": [
    {
     "name": "stdout",
     "output_type": "stream",
     "text": [
      "안양워터랜드\n",
      "SeaLaLa워터파크\n",
      "water_park\n",
      "워터파크\n",
      "케리비안베이\n",
      "송파파크하비오워터킹덤워터파크\n",
      "오션월드\n"
     ]
    },
    {
     "data": {
      "text/plain": [
       "6733"
      ]
     },
     "execution_count": 33,
     "metadata": {},
     "output_type": "execute_result"
    }
   ],
   "source": [
    "leng = 0\n",
    "for i in os.listdir('./워터파크'):\n",
    "    print(i)\n",
    "#     if os.path.exists('./워터파크/water_park'):\n",
    "#         continue\n",
    "#     else:\n",
    "    leng += len(os.listdir(f'./워터파크/{i}'))\n",
    "leng"
   ]
  },
  {
   "cell_type": "code",
   "execution_count": 26,
   "metadata": {},
   "outputs": [
    {
     "data": {
      "text/plain": [
       "416"
      ]
     },
     "execution_count": 26,
     "metadata": {},
     "output_type": "execute_result"
    }
   ],
   "source": [
    "leng=0\n",
    "a='워터파크,오션월드,안양워터랜드,케리비안베이'.split(',')\n",
    "for i in a :\n",
    "    leng += len(os.listdir(f'./워터파크/{i}'))\n",
    "    \n",
    "leng"
   ]
  },
  {
   "cell_type": "code",
   "execution_count": 35,
   "metadata": {
    "scrolled": true
   },
   "outputs": [
    {
     "data": {
      "text/plain": [
       "5000"
      ]
     },
     "execution_count": 35,
     "metadata": {},
     "output_type": "execute_result"
    }
   ],
   "source": [
    "len(os.listdir('./워터파크/water_park'))"
   ]
  },
  {
   "cell_type": "code",
   "execution_count": null,
   "metadata": {},
   "outputs": [],
   "source": []
  }
 ],
 "metadata": {
  "kernelspec": {
   "display_name": "aiffel",
   "language": "python",
   "name": "aiffel"
  },
  "language_info": {
   "codemirror_mode": {
    "name": "ipython",
    "version": 3
   },
   "file_extension": ".py",
   "mimetype": "text/x-python",
   "name": "python",
   "nbconvert_exporter": "python",
   "pygments_lexer": "ipython3",
   "version": "3.7.9"
  }
 },
 "nbformat": 4,
 "nbformat_minor": 4
}
